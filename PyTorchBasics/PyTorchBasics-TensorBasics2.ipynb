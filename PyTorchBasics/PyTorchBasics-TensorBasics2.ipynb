{
 "cells": [
  {
   "cell_type": "markdown",
   "id": "ee2e4bad",
   "metadata": {},
   "source": [
    "# PyTorch Basics - Tensor Basics Part 2"
   ]
  },
  {
   "cell_type": "code",
   "execution_count": 1,
   "id": "8389a096",
   "metadata": {},
   "outputs": [],
   "source": [
    "import torch\n",
    "import numpy as np"
   ]
  },
  {
   "cell_type": "markdown",
   "id": "cfdc68eb",
   "metadata": {},
   "source": [
    "Creating a new array"
   ]
  },
  {
   "cell_type": "code",
   "execution_count": 2,
   "id": "995aa7c7",
   "metadata": {},
   "outputs": [],
   "source": [
    "new_arr = np.array([1,2,3])"
   ]
  },
  {
   "cell_type": "markdown",
   "id": "4366232b",
   "metadata": {},
   "source": [
    "Creating a tensor with lower case t, this gives a tensor of type int32"
   ]
  },
  {
   "cell_type": "code",
   "execution_count": 3,
   "id": "b142bf1e",
   "metadata": {},
   "outputs": [
    {
     "data": {
      "text/plain": [
       "tensor([1, 2, 3], dtype=torch.int32)"
      ]
     },
     "execution_count": 3,
     "metadata": {},
     "output_type": "execute_result"
    }
   ],
   "source": [
    "torch.tensor(new_arr)"
   ]
  },
  {
   "cell_type": "markdown",
   "id": "48b77d4e",
   "metadata": {},
   "source": [
    "Creating a tensor with upper case t, this gives a tensor of type float"
   ]
  },
  {
   "cell_type": "code",
   "execution_count": 4,
   "id": "fc1df6e9",
   "metadata": {},
   "outputs": [
    {
     "data": {
      "text/plain": [
       "tensor([1., 2., 3.])"
      ]
     },
     "execution_count": 4,
     "metadata": {},
     "output_type": "execute_result"
    }
   ],
   "source": [
    "torch.Tensor(new_arr)"
   ]
  },
  {
   "cell_type": "markdown",
   "id": "9c8cded7",
   "metadata": {},
   "source": [
    "Using torch.empty to create an empty tensor"
   ]
  },
  {
   "cell_type": "code",
   "execution_count": 5,
   "id": "75191dcc",
   "metadata": {},
   "outputs": [
    {
     "data": {
      "text/plain": [
       "tensor([[8.9082e-39, 5.9694e-39],\n",
       "        [1.0286e-38, 8.9081e-39]])"
      ]
     },
     "execution_count": 5,
     "metadata": {},
     "output_type": "execute_result"
    }
   ],
   "source": [
    "torch.empty(2,2)"
   ]
  },
  {
   "cell_type": "markdown",
   "id": "6ec34c2c",
   "metadata": {},
   "source": [
    "Using torch.zeros to create a tensor of zeros"
   ]
  },
  {
   "cell_type": "code",
   "execution_count": 8,
   "id": "e6e6a2c6",
   "metadata": {},
   "outputs": [
    {
     "data": {
      "text/plain": [
       "tensor([[0, 0, 0],\n",
       "        [0, 0, 0],\n",
       "        [0, 0, 0],\n",
       "        [0, 0, 0]], dtype=torch.int32)"
      ]
     },
     "execution_count": 8,
     "metadata": {},
     "output_type": "execute_result"
    }
   ],
   "source": [
    "torch.zeros(4,3,dtype=torch.int32)"
   ]
  },
  {
   "cell_type": "markdown",
   "id": "6ece1ea3",
   "metadata": {},
   "source": [
    "Using torch.ones to create a tensor of ones"
   ]
  },
  {
   "cell_type": "code",
   "execution_count": 9,
   "id": "4a154161",
   "metadata": {},
   "outputs": [
    {
     "data": {
      "text/plain": [
       "tensor([[1., 1., 1.],\n",
       "        [1., 1., 1.],\n",
       "        [1., 1., 1.],\n",
       "        [1., 1., 1.]])"
      ]
     },
     "execution_count": 9,
     "metadata": {},
     "output_type": "execute_result"
    }
   ],
   "source": [
    "torch.ones(4,3)"
   ]
  },
  {
   "cell_type": "markdown",
   "id": "6f564002",
   "metadata": {},
   "source": [
    "Using torch.arange to create a tensor from 0 to 18 by steps of 2"
   ]
  },
  {
   "cell_type": "code",
   "execution_count": 10,
   "id": "444dc687",
   "metadata": {},
   "outputs": [
    {
     "data": {
      "text/plain": [
       "tensor([ 0,  2,  4,  6,  8, 10, 12, 14, 16])"
      ]
     },
     "execution_count": 10,
     "metadata": {},
     "output_type": "execute_result"
    }
   ],
   "source": [
    "torch.arange(0,18,2)"
   ]
  },
  {
   "cell_type": "markdown",
   "id": "f4999378",
   "metadata": {},
   "source": [
    "Using torch.reshape to reshape the tensor"
   ]
  },
  {
   "cell_type": "code",
   "execution_count": 11,
   "id": "bb58f5e2",
   "metadata": {},
   "outputs": [
    {
     "data": {
      "text/plain": [
       "tensor([[ 0,  2,  4],\n",
       "        [ 6,  8, 10],\n",
       "        [12, 14, 16]])"
      ]
     },
     "execution_count": 11,
     "metadata": {},
     "output_type": "execute_result"
    }
   ],
   "source": [
    "torch.arange(0,18,2).reshape(3,3)"
   ]
  },
  {
   "cell_type": "markdown",
   "id": "ceabf25b",
   "metadata": {},
   "source": [
    "Using torch.linspace to create a tensor of linear space"
   ]
  },
  {
   "cell_type": "code",
   "execution_count": 13,
   "id": "a2d9e84e",
   "metadata": {},
   "outputs": [
    {
     "data": {
      "text/plain": [
       "tensor([[ 0.0000,  1.6364,  3.2727,  4.9091],\n",
       "        [ 6.5455,  8.1818,  9.8182, 11.4545],\n",
       "        [13.0909, 14.7273, 16.3636, 18.0000]])"
      ]
     },
     "execution_count": 13,
     "metadata": {},
     "output_type": "execute_result"
    }
   ],
   "source": [
    "torch.linspace(0,18,12).reshape(3,4)"
   ]
  },
  {
   "cell_type": "markdown",
   "id": "a428c1a3",
   "metadata": {},
   "source": [
    "Using torch.rand to create a tensor of random numbers between 0 and 1"
   ]
  },
  {
   "cell_type": "code",
   "execution_count": 14,
   "id": "91ed95ac",
   "metadata": {},
   "outputs": [
    {
     "data": {
      "text/plain": [
       "tensor([[0.5527, 0.6227, 0.1381],\n",
       "        [0.1068, 0.9396, 0.6270],\n",
       "        [0.0892, 0.7832, 0.6945],\n",
       "        [0.3026, 0.5413, 0.8580]])"
      ]
     },
     "execution_count": 14,
     "metadata": {},
     "output_type": "execute_result"
    }
   ],
   "source": [
    "torch.rand(4,3)"
   ]
  },
  {
   "cell_type": "markdown",
   "id": "1939f1b3",
   "metadata": {},
   "source": [
    "Using torch.randn to create a tensor of random numbers from a normal distribution"
   ]
  },
  {
   "cell_type": "code",
   "execution_count": 15,
   "id": "8e187345",
   "metadata": {},
   "outputs": [
    {
     "data": {
      "text/plain": [
       "tensor([[ 0.9020,  0.2641,  0.5703,  1.9832,  0.0254],\n",
       "        [ 1.8686,  1.6440, -1.7928,  0.1906,  0.0060],\n",
       "        [-0.3619,  0.1264,  0.1968,  0.0579, -0.1527],\n",
       "        [ 0.8740, -0.6043, -0.0936, -0.0637,  1.4468],\n",
       "        [ 1.1826, -1.5834,  0.5223,  0.4088,  1.6514]])"
      ]
     },
     "execution_count": 15,
     "metadata": {},
     "output_type": "execute_result"
    }
   ],
   "source": [
    "torch.randn(5,5)"
   ]
  },
  {
   "cell_type": "markdown",
   "id": "f08ac9e4",
   "metadata": {},
   "source": [
    "Using torch.randint to create a tensor of random integers from 0 to 10"
   ]
  },
  {
   "cell_type": "code",
   "execution_count": 16,
   "id": "d9c5aa28",
   "metadata": {},
   "outputs": [
    {
     "data": {
      "text/plain": [
       "tensor([[5, 1, 6, 1, 0],\n",
       "        [9, 0, 7, 1, 3],\n",
       "        [3, 2, 1, 0, 4],\n",
       "        [2, 2, 8, 3, 4],\n",
       "        [3, 6, 1, 0, 1]])"
      ]
     },
     "execution_count": 16,
     "metadata": {},
     "output_type": "execute_result"
    }
   ],
   "source": [
    "torch.randint(low=0, high=10,size=(5,5))"
   ]
  },
  {
   "cell_type": "markdown",
   "id": "499b87ae",
   "metadata": {},
   "source": [
    "Creating a tensor of zeros"
   ]
  },
  {
   "cell_type": "code",
   "execution_count": 17,
   "id": "c3b3e494",
   "metadata": {},
   "outputs": [],
   "source": [
    "x = torch.zeros(2,5)"
   ]
  },
  {
   "cell_type": "code",
   "execution_count": 18,
   "id": "7af82387",
   "metadata": {},
   "outputs": [
    {
     "data": {
      "text/plain": [
       "tensor([[0., 0., 0., 0., 0.],\n",
       "        [0., 0., 0., 0., 0.]])"
      ]
     },
     "execution_count": 18,
     "metadata": {},
     "output_type": "execute_result"
    }
   ],
   "source": [
    "x"
   ]
  },
  {
   "cell_type": "markdown",
   "id": "009c5635",
   "metadata": {},
   "source": [
    "Using torch.rand_like to create a tensor of random numbers the same shape as tensor x"
   ]
  },
  {
   "cell_type": "code",
   "execution_count": 19,
   "id": "bf0df198",
   "metadata": {},
   "outputs": [
    {
     "data": {
      "text/plain": [
       "tensor([[0.2065, 0.2309, 0.6326, 0.3953, 0.4685],\n",
       "        [0.8294, 0.0467, 0.1164, 0.2470, 0.5354]])"
      ]
     },
     "execution_count": 19,
     "metadata": {},
     "output_type": "execute_result"
    }
   ],
   "source": [
    "torch.rand_like(x)"
   ]
  },
  {
   "cell_type": "markdown",
   "id": "3c13e902",
   "metadata": {},
   "source": [
    "Using torch.randn_like to create a tensor of random numbers from a normal distribution the same shape as tensor x"
   ]
  },
  {
   "cell_type": "code",
   "execution_count": 20,
   "id": "264236a8",
   "metadata": {},
   "outputs": [
    {
     "data": {
      "text/plain": [
       "tensor([[ 0.3166, -0.6783,  1.2469, -0.0829, -0.7224],\n",
       "        [ 0.1548, -0.4218, -2.0147, -1.1262,  0.2149]])"
      ]
     },
     "execution_count": 20,
     "metadata": {},
     "output_type": "execute_result"
    }
   ],
   "source": [
    "torch.randn_like(x)"
   ]
  },
  {
   "cell_type": "markdown",
   "id": "e5af9f8b",
   "metadata": {},
   "source": [
    "Using torch.randint_like to create a tensor of random integers the same shape as tensor x"
   ]
  },
  {
   "cell_type": "code",
   "execution_count": 21,
   "id": "5e416daf",
   "metadata": {},
   "outputs": [
    {
     "data": {
      "text/plain": [
       "tensor([[5., 1., 4., 0., 2.],\n",
       "        [3., 1., 2., 7., 0.]])"
      ]
     },
     "execution_count": 21,
     "metadata": {},
     "output_type": "execute_result"
    }
   ],
   "source": [
    "torch.randint_like(x,low=0,high=10)"
   ]
  },
  {
   "cell_type": "markdown",
   "id": "7fafeb3a",
   "metadata": {},
   "source": [
    "using torch.manual_seed to declare a seed for random numbers "
   ]
  },
  {
   "cell_type": "code",
   "execution_count": 23,
   "id": "15ab93f9",
   "metadata": {},
   "outputs": [
    {
     "data": {
      "text/plain": [
       "tensor([[0.8823, 0.9150, 0.3829],\n",
       "        [0.9593, 0.3904, 0.6009]])"
      ]
     },
     "execution_count": 23,
     "metadata": {},
     "output_type": "execute_result"
    }
   ],
   "source": [
    "torch.manual_seed(42)\n",
    "torch.rand(2,3)"
   ]
  }
 ],
 "metadata": {
  "kernelspec": {
   "display_name": "Python 3 (ipykernel)",
   "language": "python",
   "name": "python3"
  },
  "language_info": {
   "codemirror_mode": {
    "name": "ipython",
    "version": 3
   },
   "file_extension": ".py",
   "mimetype": "text/x-python",
   "name": "python",
   "nbconvert_exporter": "python",
   "pygments_lexer": "ipython3",
   "version": "3.7.3"
  }
 },
 "nbformat": 4,
 "nbformat_minor": 5
}
