{
 "cells": [
  {
   "cell_type": "markdown",
   "id": "a9a39f30",
   "metadata": {},
   "source": [
    "# PyTorch Basics - Tensor Basics Part 1"
   ]
  },
  {
   "cell_type": "markdown",
   "id": "26390de8",
   "metadata": {},
   "source": [
    "Import PyTorch"
   ]
  },
  {
   "cell_type": "code",
   "execution_count": 1,
   "id": "ec9c90d8",
   "metadata": {},
   "outputs": [],
   "source": [
    "import torch\n",
    "import numpy as np"
   ]
  },
  {
   "cell_type": "markdown",
   "id": "033a40f0",
   "metadata": {},
   "source": [
    "Checking the version number"
   ]
  },
  {
   "cell_type": "code",
   "execution_count": 2,
   "id": "1a19394f",
   "metadata": {},
   "outputs": [
    {
     "data": {
      "text/plain": [
       "'1.1.0'"
      ]
     },
     "execution_count": 2,
     "metadata": {},
     "output_type": "execute_result"
    }
   ],
   "source": [
    "torch.__version__"
   ]
  },
  {
   "cell_type": "markdown",
   "id": "fbbc3943",
   "metadata": {},
   "source": [
    "Creating a NumPy array"
   ]
  },
  {
   "cell_type": "code",
   "execution_count": 3,
   "id": "28223c40",
   "metadata": {},
   "outputs": [],
   "source": [
    "arr = np.array([1,2,3,4,5])"
   ]
  },
  {
   "cell_type": "markdown",
   "id": "c4149f06",
   "metadata": {},
   "source": [
    "Creating a tensor from that array"
   ]
  },
  {
   "cell_type": "code",
   "execution_count": 5,
   "id": "a21a6082",
   "metadata": {},
   "outputs": [],
   "source": [
    "x = torch.from_numpy(arr)"
   ]
  },
  {
   "cell_type": "markdown",
   "id": "3f38ff45",
   "metadata": {},
   "source": [
    "Checking the type"
   ]
  },
  {
   "cell_type": "code",
   "execution_count": 6,
   "id": "adc36222",
   "metadata": {},
   "outputs": [
    {
     "data": {
      "text/plain": [
       "torch.Tensor"
      ]
     },
     "execution_count": 6,
     "metadata": {},
     "output_type": "execute_result"
    }
   ],
   "source": [
    "type(x)"
   ]
  },
  {
   "cell_type": "markdown",
   "id": "7a8a559c",
   "metadata": {},
   "source": [
    "Another way to create a tensor"
   ]
  },
  {
   "cell_type": "code",
   "execution_count": 7,
   "id": "11157a5c",
   "metadata": {},
   "outputs": [
    {
     "data": {
      "text/plain": [
       "tensor([1, 2, 3, 4, 5], dtype=torch.int32)"
      ]
     },
     "execution_count": 7,
     "metadata": {},
     "output_type": "execute_result"
    }
   ],
   "source": [
    "torch.as_tensor(arr)"
   ]
  },
  {
   "cell_type": "markdown",
   "id": "2a86f539",
   "metadata": {},
   "source": [
    "Creating a 2d array"
   ]
  },
  {
   "cell_type": "code",
   "execution_count": 8,
   "id": "e5490f48",
   "metadata": {},
   "outputs": [],
   "source": [
    "arr_2d = np.arange(0.0,12.0)"
   ]
  },
  {
   "cell_type": "code",
   "execution_count": 9,
   "id": "f44dec32",
   "metadata": {},
   "outputs": [],
   "source": [
    "arr_2d = arr_2d.reshape(4,3)"
   ]
  },
  {
   "cell_type": "code",
   "execution_count": 10,
   "id": "8c7939ff",
   "metadata": {},
   "outputs": [
    {
     "data": {
      "text/plain": [
       "array([[ 0.,  1.,  2.],\n",
       "       [ 3.,  4.,  5.],\n",
       "       [ 6.,  7.,  8.],\n",
       "       [ 9., 10., 11.]])"
      ]
     },
     "execution_count": 10,
     "metadata": {},
     "output_type": "execute_result"
    }
   ],
   "source": [
    "arr_2d"
   ]
  },
  {
   "cell_type": "markdown",
   "id": "9fcfeb29",
   "metadata": {},
   "source": [
    "Creating a 2d tensor from the 2d array"
   ]
  },
  {
   "cell_type": "code",
   "execution_count": 11,
   "id": "dad15ede",
   "metadata": {},
   "outputs": [],
   "source": [
    "x2 = torch.from_numpy(arr_2d)"
   ]
  },
  {
   "cell_type": "code",
   "execution_count": 12,
   "id": "ee98b98e",
   "metadata": {},
   "outputs": [
    {
     "data": {
      "text/plain": [
       "tensor([[ 0.,  1.,  2.],\n",
       "        [ 3.,  4.,  5.],\n",
       "        [ 6.,  7.,  8.],\n",
       "        [ 9., 10., 11.]], dtype=torch.float64)"
      ]
     },
     "execution_count": 12,
     "metadata": {},
     "output_type": "execute_result"
    }
   ],
   "source": [
    "x2"
   ]
  },
  {
   "cell_type": "markdown",
   "id": "2f000f9a",
   "metadata": {},
   "source": [
    "Changing a value in the array"
   ]
  },
  {
   "cell_type": "code",
   "execution_count": 13,
   "id": "a79a3385",
   "metadata": {},
   "outputs": [],
   "source": [
    "arr[0] = 99"
   ]
  },
  {
   "cell_type": "code",
   "execution_count": 14,
   "id": "19e52c9b",
   "metadata": {},
   "outputs": [
    {
     "data": {
      "text/plain": [
       "array([99,  2,  3,  4,  5])"
      ]
     },
     "execution_count": 14,
     "metadata": {},
     "output_type": "execute_result"
    }
   ],
   "source": [
    "arr"
   ]
  },
  {
   "cell_type": "markdown",
   "id": "70739b20",
   "metadata": {},
   "source": [
    "The tensor is now also changed"
   ]
  },
  {
   "cell_type": "code",
   "execution_count": 15,
   "id": "1599ae97",
   "metadata": {},
   "outputs": [
    {
     "data": {
      "text/plain": [
       "tensor([99,  2,  3,  4,  5], dtype=torch.int32)"
      ]
     },
     "execution_count": 15,
     "metadata": {},
     "output_type": "execute_result"
    }
   ],
   "source": [
    "x"
   ]
  },
  {
   "cell_type": "code",
   "execution_count": 16,
   "id": "ca9d5140",
   "metadata": {},
   "outputs": [],
   "source": [
    "myarr = np.arange(0,10)"
   ]
  },
  {
   "cell_type": "markdown",
   "id": "d579fb4a",
   "metadata": {},
   "source": [
    "To avoid this, use torch.tensor()"
   ]
  },
  {
   "cell_type": "code",
   "execution_count": 17,
   "id": "95d3c483",
   "metadata": {},
   "outputs": [],
   "source": [
    "mytensor = torch.tensor(myarr)"
   ]
  }
 ],
 "metadata": {
  "kernelspec": {
   "display_name": "Python 3 (ipykernel)",
   "language": "python",
   "name": "python3"
  },
  "language_info": {
   "codemirror_mode": {
    "name": "ipython",
    "version": 3
   },
   "file_extension": ".py",
   "mimetype": "text/x-python",
   "name": "python",
   "nbconvert_exporter": "python",
   "pygments_lexer": "ipython3",
   "version": "3.7.3"
  }
 },
 "nbformat": 4,
 "nbformat_minor": 5
}
