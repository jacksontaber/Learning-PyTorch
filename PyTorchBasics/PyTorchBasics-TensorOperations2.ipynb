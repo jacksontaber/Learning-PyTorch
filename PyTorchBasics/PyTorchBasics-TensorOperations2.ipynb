{
 "cells": [
  {
   "cell_type": "markdown",
   "id": "0094f3dc",
   "metadata": {},
   "source": [
    "# PyTorch Basics - Tensor Operations Part 2"
   ]
  },
  {
   "cell_type": "code",
   "execution_count": 1,
   "id": "f1cdb706",
   "metadata": {},
   "outputs": [],
   "source": [
    "import torch\n",
    "import numpy as np"
   ]
  },
  {
   "cell_type": "markdown",
   "id": "82a879c4",
   "metadata": {},
   "source": [
    "Creating two tensors a and b"
   ]
  },
  {
   "cell_type": "code",
   "execution_count": 2,
   "id": "2ef44627",
   "metadata": {},
   "outputs": [],
   "source": [
    "a = torch.tensor([1.,2.,3.])\n",
    "b = torch.tensor([4.,5.,6.])"
   ]
  },
  {
   "cell_type": "markdown",
   "id": "09471a99",
   "metadata": {},
   "source": [
    "Multiplying the two tensors"
   ]
  },
  {
   "cell_type": "code",
   "execution_count": 3,
   "id": "455f6028",
   "metadata": {},
   "outputs": [
    {
     "data": {
      "text/plain": [
       "tensor([ 4., 10., 18.])"
      ]
     },
     "execution_count": 3,
     "metadata": {},
     "output_type": "execute_result"
    }
   ],
   "source": [
    "a * b"
   ]
  },
  {
   "cell_type": "markdown",
   "id": "7356b896",
   "metadata": {},
   "source": [
    "Using .dot to find the dot product of a and b"
   ]
  },
  {
   "cell_type": "code",
   "execution_count": 4,
   "id": "e8356311",
   "metadata": {},
   "outputs": [
    {
     "data": {
      "text/plain": [
       "tensor(32.)"
      ]
     },
     "execution_count": 4,
     "metadata": {},
     "output_type": "execute_result"
    }
   ],
   "source": [
    "a.dot(b)"
   ]
  },
  {
   "cell_type": "markdown",
   "id": "f0b26881",
   "metadata": {},
   "source": [
    "Creating a new tensors that is 2d"
   ]
  },
  {
   "cell_type": "code",
   "execution_count": 5,
   "id": "0ecf5c59",
   "metadata": {},
   "outputs": [],
   "source": [
    "a = torch.tensor([[0,2,4],[1,3,5]])"
   ]
  },
  {
   "cell_type": "code",
   "execution_count": 6,
   "id": "f41d9478",
   "metadata": {},
   "outputs": [
    {
     "data": {
      "text/plain": [
       "tensor([[0, 2, 4],\n",
       "        [1, 3, 5]])"
      ]
     },
     "execution_count": 6,
     "metadata": {},
     "output_type": "execute_result"
    }
   ],
   "source": [
    "a"
   ]
  },
  {
   "cell_type": "markdown",
   "id": "3caa30b0",
   "metadata": {},
   "source": [
    "Creating a new tensors that is 2d"
   ]
  },
  {
   "cell_type": "code",
   "execution_count": 7,
   "id": "56364390",
   "metadata": {},
   "outputs": [],
   "source": [
    "b = torch.tensor([[6,7],[8,9],[10,11]])"
   ]
  },
  {
   "cell_type": "code",
   "execution_count": 8,
   "id": "f4a68b2d",
   "metadata": {},
   "outputs": [
    {
     "data": {
      "text/plain": [
       "tensor([[ 6,  7],\n",
       "        [ 8,  9],\n",
       "        [10, 11]])"
      ]
     },
     "execution_count": 8,
     "metadata": {},
     "output_type": "execute_result"
    }
   ],
   "source": [
    "b"
   ]
  },
  {
   "cell_type": "markdown",
   "id": "70134de4",
   "metadata": {},
   "source": [
    "Using torch.mm to do matrix multiplication on a and b"
   ]
  },
  {
   "cell_type": "code",
   "execution_count": 9,
   "id": "2d66201a",
   "metadata": {},
   "outputs": [
    {
     "data": {
      "text/plain": [
       "tensor([[56, 62],\n",
       "        [80, 89]])"
      ]
     },
     "execution_count": 9,
     "metadata": {},
     "output_type": "execute_result"
    }
   ],
   "source": [
    "torch.mm(a,b)"
   ]
  },
  {
   "cell_type": "markdown",
   "id": "ee2c8eb4",
   "metadata": {},
   "source": [
    "Creating a new tensor"
   ]
  },
  {
   "cell_type": "code",
   "execution_count": 10,
   "id": "62738cda",
   "metadata": {},
   "outputs": [],
   "source": [
    "x = torch.tensor([2.,3.,4.,5.])"
   ]
  },
  {
   "cell_type": "markdown",
   "id": "78a82eb3",
   "metadata": {},
   "source": [
    "Using .norm() to find the vector norm"
   ]
  },
  {
   "cell_type": "code",
   "execution_count": 11,
   "id": "eca4bbbc",
   "metadata": {},
   "outputs": [
    {
     "data": {
      "text/plain": [
       "tensor(7.3485)"
      ]
     },
     "execution_count": 11,
     "metadata": {},
     "output_type": "execute_result"
    }
   ],
   "source": [
    "x.norm()"
   ]
  },
  {
   "cell_type": "markdown",
   "id": "2d45bbb7",
   "metadata": {},
   "source": [
    "Using .numel() to find the number of elements"
   ]
  },
  {
   "cell_type": "code",
   "execution_count": 12,
   "id": "3499b504",
   "metadata": {},
   "outputs": [
    {
     "data": {
      "text/plain": [
       "4"
      ]
     },
     "execution_count": 12,
     "metadata": {},
     "output_type": "execute_result"
    }
   ],
   "source": [
    "x.numel()"
   ]
  }
 ],
 "metadata": {
  "kernelspec": {
   "display_name": "Python 3 (ipykernel)",
   "language": "python",
   "name": "python3"
  },
  "language_info": {
   "codemirror_mode": {
    "name": "ipython",
    "version": 3
   },
   "file_extension": ".py",
   "mimetype": "text/x-python",
   "name": "python",
   "nbconvert_exporter": "python",
   "pygments_lexer": "ipython3",
   "version": "3.7.3"
  }
 },
 "nbformat": 4,
 "nbformat_minor": 5
}
