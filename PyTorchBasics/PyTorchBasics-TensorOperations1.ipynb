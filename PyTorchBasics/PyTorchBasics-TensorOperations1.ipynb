{
 "cells": [
  {
   "cell_type": "markdown",
   "id": "e695200a",
   "metadata": {},
   "source": [
    "# PyTorch Basics - Tensor Operations Part 1"
   ]
  },
  {
   "cell_type": "code",
   "execution_count": 1,
   "id": "082dd29f",
   "metadata": {},
   "outputs": [],
   "source": [
    "import torch\n",
    "import numpy as np"
   ]
  },
  {
   "cell_type": "markdown",
   "id": "9f646cbb",
   "metadata": {},
   "source": [
    "Creating a tensor from arange and reshaping it"
   ]
  },
  {
   "cell_type": "code",
   "execution_count": 2,
   "id": "b8442e47",
   "metadata": {},
   "outputs": [],
   "source": [
    "x = torch.arange(6).reshape(3,2)"
   ]
  },
  {
   "cell_type": "code",
   "execution_count": 3,
   "id": "42c038b7",
   "metadata": {},
   "outputs": [
    {
     "data": {
      "text/plain": [
       "tensor([[0, 1],\n",
       "        [2, 3],\n",
       "        [4, 5]])"
      ]
     },
     "execution_count": 3,
     "metadata": {},
     "output_type": "execute_result"
    }
   ],
   "source": [
    "x"
   ]
  },
  {
   "cell_type": "markdown",
   "id": "5d88497c",
   "metadata": {},
   "source": [
    "Getting the tensor value at position 1,1"
   ]
  },
  {
   "cell_type": "code",
   "execution_count": 4,
   "id": "19db891d",
   "metadata": {},
   "outputs": [
    {
     "data": {
      "text/plain": [
       "tensor(3)"
      ]
     },
     "execution_count": 4,
     "metadata": {},
     "output_type": "execute_result"
    }
   ],
   "source": [
    "x[1,1]"
   ]
  },
  {
   "cell_type": "markdown",
   "id": "622cb365",
   "metadata": {},
   "source": [
    "Getting the tensor values of all rows in column 1"
   ]
  },
  {
   "cell_type": "code",
   "execution_count": 5,
   "id": "1a177eda",
   "metadata": {},
   "outputs": [
    {
     "data": {
      "text/plain": [
       "tensor([1, 3, 5])"
      ]
     },
     "execution_count": 5,
     "metadata": {},
     "output_type": "execute_result"
    }
   ],
   "source": [
    "x[:,1]"
   ]
  },
  {
   "cell_type": "markdown",
   "id": "d79dc53f",
   "metadata": {},
   "source": [
    "Same thing except using slice to keep them in different rows"
   ]
  },
  {
   "cell_type": "code",
   "execution_count": 6,
   "id": "7dcc2ff7",
   "metadata": {},
   "outputs": [
    {
     "data": {
      "text/plain": [
       "tensor([[1],\n",
       "        [3],\n",
       "        [5]])"
      ]
     },
     "execution_count": 6,
     "metadata": {},
     "output_type": "execute_result"
    }
   ],
   "source": [
    "x[:,1:]"
   ]
  },
  {
   "cell_type": "markdown",
   "id": "4b8f559a",
   "metadata": {},
   "source": [
    "Creating a new tensor"
   ]
  },
  {
   "cell_type": "code",
   "execution_count": 7,
   "id": "1a076790",
   "metadata": {},
   "outputs": [],
   "source": [
    "x = torch.arange(10)"
   ]
  },
  {
   "cell_type": "code",
   "execution_count": 8,
   "id": "fb1336b8",
   "metadata": {},
   "outputs": [
    {
     "data": {
      "text/plain": [
       "tensor([0, 1, 2, 3, 4, 5, 6, 7, 8, 9])"
      ]
     },
     "execution_count": 8,
     "metadata": {},
     "output_type": "execute_result"
    }
   ],
   "source": [
    "x"
   ]
  },
  {
   "cell_type": "markdown",
   "id": "6c6dfcaa",
   "metadata": {},
   "source": [
    "Using .view to reshape the tensor"
   ]
  },
  {
   "cell_type": "code",
   "execution_count": 9,
   "id": "6f0a4200",
   "metadata": {},
   "outputs": [
    {
     "data": {
      "text/plain": [
       "tensor([[0, 1, 2, 3, 4],\n",
       "        [5, 6, 7, 8, 9]])"
      ]
     },
     "execution_count": 9,
     "metadata": {},
     "output_type": "execute_result"
    }
   ],
   "source": [
    "x.view(2,5)"
   ]
  },
  {
   "cell_type": "code",
   "execution_count": 10,
   "id": "36eca75d",
   "metadata": {},
   "outputs": [
    {
     "data": {
      "text/plain": [
       "tensor([0, 1, 2, 3, 4, 5, 6, 7, 8, 9])"
      ]
     },
     "execution_count": 10,
     "metadata": {},
     "output_type": "execute_result"
    }
   ],
   "source": [
    "x"
   ]
  },
  {
   "cell_type": "markdown",
   "id": "63120ff8",
   "metadata": {},
   "source": [
    "Using .reshape to reshape the tensor, is the same as .view"
   ]
  },
  {
   "cell_type": "code",
   "execution_count": 11,
   "id": "350be4be",
   "metadata": {},
   "outputs": [
    {
     "data": {
      "text/plain": [
       "tensor([[0, 1, 2, 3, 4],\n",
       "        [5, 6, 7, 8, 9]])"
      ]
     },
     "execution_count": 11,
     "metadata": {},
     "output_type": "execute_result"
    }
   ],
   "source": [
    "x.reshape(2,5)"
   ]
  },
  {
   "cell_type": "code",
   "execution_count": 12,
   "id": "f08b4cc5",
   "metadata": {},
   "outputs": [
    {
     "data": {
      "text/plain": [
       "tensor([0, 1, 2, 3, 4, 5, 6, 7, 8, 9])"
      ]
     },
     "execution_count": 12,
     "metadata": {},
     "output_type": "execute_result"
    }
   ],
   "source": [
    "x"
   ]
  },
  {
   "cell_type": "markdown",
   "id": "3cc5c513",
   "metadata": {},
   "source": [
    "Saving the reshaped tensor"
   ]
  },
  {
   "cell_type": "code",
   "execution_count": 13,
   "id": "72540474",
   "metadata": {},
   "outputs": [],
   "source": [
    "x = x.reshape(2,5)"
   ]
  },
  {
   "cell_type": "code",
   "execution_count": 14,
   "id": "37948a37",
   "metadata": {},
   "outputs": [
    {
     "data": {
      "text/plain": [
       "tensor([[0, 1, 2, 3, 4],\n",
       "        [5, 6, 7, 8, 9]])"
      ]
     },
     "execution_count": 14,
     "metadata": {},
     "output_type": "execute_result"
    }
   ],
   "source": [
    "x"
   ]
  },
  {
   "cell_type": "markdown",
   "id": "008241ef",
   "metadata": {},
   "source": [
    "Creating a new tensor"
   ]
  },
  {
   "cell_type": "code",
   "execution_count": 15,
   "id": "87f43f13",
   "metadata": {},
   "outputs": [],
   "source": [
    "x = torch.arange(10)"
   ]
  },
  {
   "cell_type": "code",
   "execution_count": 16,
   "id": "3dbcfd39",
   "metadata": {},
   "outputs": [
    {
     "data": {
      "text/plain": [
       "tensor([0, 1, 2, 3, 4, 5, 6, 7, 8, 9])"
      ]
     },
     "execution_count": 16,
     "metadata": {},
     "output_type": "execute_result"
    }
   ],
   "source": [
    "x"
   ]
  },
  {
   "cell_type": "markdown",
   "id": "5e4b5da9",
   "metadata": {},
   "source": [
    "Saving the .view reshaped tensor"
   ]
  },
  {
   "cell_type": "code",
   "execution_count": 17,
   "id": "6b041ffe",
   "metadata": {},
   "outputs": [],
   "source": [
    "z = x.view(2,5)"
   ]
  },
  {
   "cell_type": "code",
   "execution_count": 18,
   "id": "5d221209",
   "metadata": {},
   "outputs": [
    {
     "data": {
      "text/plain": [
       "tensor([[0, 1, 2, 3, 4],\n",
       "        [5, 6, 7, 8, 9]])"
      ]
     },
     "execution_count": 18,
     "metadata": {},
     "output_type": "execute_result"
    }
   ],
   "source": [
    "z"
   ]
  },
  {
   "cell_type": "markdown",
   "id": "854bf9bd",
   "metadata": {},
   "source": [
    "Changing the value of tensor x position 0 to 999"
   ]
  },
  {
   "cell_type": "code",
   "execution_count": 19,
   "id": "694de49d",
   "metadata": {},
   "outputs": [],
   "source": [
    "x[0] = 999"
   ]
  },
  {
   "cell_type": "code",
   "execution_count": 20,
   "id": "d14f2bd6",
   "metadata": {},
   "outputs": [
    {
     "data": {
      "text/plain": [
       "tensor([999,   1,   2,   3,   4,   5,   6,   7,   8,   9])"
      ]
     },
     "execution_count": 20,
     "metadata": {},
     "output_type": "execute_result"
    }
   ],
   "source": [
    "x"
   ]
  },
  {
   "cell_type": "markdown",
   "id": "9f09a4b9",
   "metadata": {},
   "source": [
    "Tensor z is now also updated with the change"
   ]
  },
  {
   "cell_type": "code",
   "execution_count": 21,
   "id": "8e586e4b",
   "metadata": {},
   "outputs": [
    {
     "data": {
      "text/plain": [
       "tensor([[999,   1,   2,   3,   4],\n",
       "        [  5,   6,   7,   8,   9]])"
      ]
     },
     "execution_count": 21,
     "metadata": {},
     "output_type": "execute_result"
    }
   ],
   "source": [
    "z"
   ]
  },
  {
   "cell_type": "markdown",
   "id": "50aa3aaa",
   "metadata": {},
   "source": [
    "creating a new tensor"
   ]
  },
  {
   "cell_type": "code",
   "execution_count": 22,
   "id": "ad9427cb",
   "metadata": {},
   "outputs": [],
   "source": [
    "x = torch.arange(10)"
   ]
  },
  {
   "cell_type": "code",
   "execution_count": 23,
   "id": "7e75129f",
   "metadata": {},
   "outputs": [
    {
     "data": {
      "text/plain": [
       "tensor([0, 1, 2, 3, 4, 5, 6, 7, 8, 9])"
      ]
     },
     "execution_count": 23,
     "metadata": {},
     "output_type": "execute_result"
    }
   ],
   "source": [
    "x"
   ]
  },
  {
   "cell_type": "markdown",
   "id": "31a3248b",
   "metadata": {},
   "source": [
    "In .view using -1 to autofill the reshape"
   ]
  },
  {
   "cell_type": "code",
   "execution_count": 24,
   "id": "f19a9e1a",
   "metadata": {},
   "outputs": [
    {
     "data": {
      "text/plain": [
       "tensor([[0, 1, 2, 3, 4],\n",
       "        [5, 6, 7, 8, 9]])"
      ]
     },
     "execution_count": 24,
     "metadata": {},
     "output_type": "execute_result"
    }
   ],
   "source": [
    "x.view(2,-1)"
   ]
  },
  {
   "cell_type": "code",
   "execution_count": 25,
   "id": "3f621587",
   "metadata": {},
   "outputs": [
    {
     "data": {
      "text/plain": [
       "tensor([[0, 1, 2, 3, 4],\n",
       "        [5, 6, 7, 8, 9]])"
      ]
     },
     "execution_count": 25,
     "metadata": {},
     "output_type": "execute_result"
    }
   ],
   "source": [
    "x.view(-1,5)"
   ]
  },
  {
   "cell_type": "markdown",
   "id": "ddc7668a",
   "metadata": {},
   "source": [
    "Creating two tesnors a and b"
   ]
  },
  {
   "cell_type": "code",
   "execution_count": 26,
   "id": "4d577423",
   "metadata": {},
   "outputs": [],
   "source": [
    "a = torch.tensor([1.,2.,3.])"
   ]
  },
  {
   "cell_type": "code",
   "execution_count": 27,
   "id": "f8fd7b05",
   "metadata": {},
   "outputs": [],
   "source": [
    "b = torch.tensor([4.,5.,6.])"
   ]
  },
  {
   "cell_type": "markdown",
   "id": "3fdb5e18",
   "metadata": {},
   "source": [
    "Adding the two tensors using +"
   ]
  },
  {
   "cell_type": "code",
   "execution_count": 28,
   "id": "cccbde86",
   "metadata": {},
   "outputs": [
    {
     "data": {
      "text/plain": [
       "tensor([5., 7., 9.])"
      ]
     },
     "execution_count": 28,
     "metadata": {},
     "output_type": "execute_result"
    }
   ],
   "source": [
    "a + b"
   ]
  },
  {
   "cell_type": "markdown",
   "id": "10b1751a",
   "metadata": {},
   "source": [
    "Adding the two tensors using .add"
   ]
  },
  {
   "cell_type": "code",
   "execution_count": 29,
   "id": "bc41c9bd",
   "metadata": {},
   "outputs": [
    {
     "data": {
      "text/plain": [
       "tensor([5., 7., 9.])"
      ]
     },
     "execution_count": 29,
     "metadata": {},
     "output_type": "execute_result"
    }
   ],
   "source": [
    "torch.add(a,b)"
   ]
  },
  {
   "cell_type": "markdown",
   "id": "71529b0e",
   "metadata": {},
   "source": [
    "using .mul to multiple the two tensors"
   ]
  },
  {
   "cell_type": "code",
   "execution_count": 30,
   "id": "3877eff8",
   "metadata": {},
   "outputs": [
    {
     "data": {
      "text/plain": [
       "tensor([ 4., 10., 18.])"
      ]
     },
     "execution_count": 30,
     "metadata": {},
     "output_type": "execute_result"
    }
   ],
   "source": [
    "a.mul(b)"
   ]
  },
  {
   "cell_type": "markdown",
   "id": "5f7a484a",
   "metadata": {},
   "source": [
    "Nothing changes in a after .mul"
   ]
  },
  {
   "cell_type": "code",
   "execution_count": 31,
   "id": "0ebf0833",
   "metadata": {},
   "outputs": [
    {
     "data": {
      "text/plain": [
       "tensor([1., 2., 3.])"
      ]
     },
     "execution_count": 31,
     "metadata": {},
     "output_type": "execute_result"
    }
   ],
   "source": [
    "a"
   ]
  },
  {
   "cell_type": "markdown",
   "id": "1a6e7a52",
   "metadata": {},
   "source": [
    "Using .mul_ will make the operation save"
   ]
  },
  {
   "cell_type": "code",
   "execution_count": 32,
   "id": "6df578ae",
   "metadata": {},
   "outputs": [
    {
     "data": {
      "text/plain": [
       "tensor([ 4., 10., 18.])"
      ]
     },
     "execution_count": 32,
     "metadata": {},
     "output_type": "execute_result"
    }
   ],
   "source": [
    "a.mul_(b)"
   ]
  },
  {
   "cell_type": "code",
   "execution_count": 33,
   "id": "fd615270",
   "metadata": {},
   "outputs": [
    {
     "data": {
      "text/plain": [
       "tensor([ 4., 10., 18.])"
      ]
     },
     "execution_count": 33,
     "metadata": {},
     "output_type": "execute_result"
    }
   ],
   "source": [
    "a"
   ]
  }
 ],
 "metadata": {
  "kernelspec": {
   "display_name": "Python 3 (ipykernel)",
   "language": "python",
   "name": "python3"
  },
  "language_info": {
   "codemirror_mode": {
    "name": "ipython",
    "version": 3
   },
   "file_extension": ".py",
   "mimetype": "text/x-python",
   "name": "python",
   "nbconvert_exporter": "python",
   "pygments_lexer": "ipython3",
   "version": "3.7.3"
  }
 },
 "nbformat": 4,
 "nbformat_minor": 5
}
