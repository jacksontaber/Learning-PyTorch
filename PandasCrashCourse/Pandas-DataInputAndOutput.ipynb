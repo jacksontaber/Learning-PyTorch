{
 "cells": [
  {
   "cell_type": "markdown",
   "id": "98abbd37",
   "metadata": {},
   "source": [
    "# Pandas Crash Course - Data Input and Output"
   ]
  },
  {
   "cell_type": "code",
   "execution_count": 1,
   "id": "2821a627",
   "metadata": {},
   "outputs": [],
   "source": [
    "import numpy as np\n",
    "import pandas as pd"
   ]
  },
  {
   "cell_type": "markdown",
   "id": "b5f66001",
   "metadata": {},
   "source": [
    "Reading in a dataframe from a csv"
   ]
  },
  {
   "cell_type": "code",
   "execution_count": 4,
   "id": "9332ba03",
   "metadata": {},
   "outputs": [],
   "source": [
    "df = pd.read_csv('PYTORCH_NOTEBOOKS/PYTORCH_NOTEBOOKS/00-Crash-Course-Topics/01-Crash-Course-Pandas/example.csv')"
   ]
  },
  {
   "cell_type": "markdown",
   "id": "590eb600",
   "metadata": {},
   "source": [
    "Creating a new dataframe from columns a and b"
   ]
  },
  {
   "cell_type": "code",
   "execution_count": 5,
   "id": "a3753bf0",
   "metadata": {},
   "outputs": [],
   "source": [
    "newdf = df[['a','b']]"
   ]
  },
  {
   "cell_type": "markdown",
   "id": "5f25436a",
   "metadata": {},
   "source": [
    "Sending the new dataframe to a csv"
   ]
  },
  {
   "cell_type": "code",
   "execution_count": 6,
   "id": "5ead580e",
   "metadata": {},
   "outputs": [],
   "source": [
    "newdf.to_csv('mynew.csv')"
   ]
  }
 ],
 "metadata": {
  "kernelspec": {
   "display_name": "Python 3 (ipykernel)",
   "language": "python",
   "name": "python3"
  },
  "language_info": {
   "codemirror_mode": {
    "name": "ipython",
    "version": 3
   },
   "file_extension": ".py",
   "mimetype": "text/x-python",
   "name": "python",
   "nbconvert_exporter": "python",
   "pygments_lexer": "ipython3",
   "version": "3.7.3"
  }
 },
 "nbformat": 4,
 "nbformat_minor": 5
}
