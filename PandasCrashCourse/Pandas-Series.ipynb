{
 "cells": [
  {
   "cell_type": "markdown",
   "id": "9794795c",
   "metadata": {},
   "source": [
    "# Pandas Crash Course - Series"
   ]
  },
  {
   "cell_type": "markdown",
   "id": "c7815229",
   "metadata": {},
   "source": [
    "Importing pandas"
   ]
  },
  {
   "cell_type": "code",
   "execution_count": 1,
   "id": "e98d4a93",
   "metadata": {},
   "outputs": [],
   "source": [
    "import numpy as np\n",
    "import pandas as pd"
   ]
  },
  {
   "cell_type": "markdown",
   "id": "3b6e3ef8",
   "metadata": {},
   "source": [
    "Creating a list named labels"
   ]
  },
  {
   "cell_type": "code",
   "execution_count": 2,
   "id": "5b5a595c",
   "metadata": {},
   "outputs": [],
   "source": [
    "labels = ['a', 'b', 'c']"
   ]
  },
  {
   "cell_type": "markdown",
   "id": "3e0ac9f6",
   "metadata": {},
   "source": [
    "Creating a list called mylist"
   ]
  },
  {
   "cell_type": "code",
   "execution_count": 3,
   "id": "1369181d",
   "metadata": {},
   "outputs": [],
   "source": [
    "mylist = [10,20,30]"
   ]
  },
  {
   "cell_type": "markdown",
   "id": "e7aa1ba4",
   "metadata": {},
   "source": [
    "Turing mylist into an array"
   ]
  },
  {
   "cell_type": "code",
   "execution_count": 4,
   "id": "e69e0412",
   "metadata": {},
   "outputs": [],
   "source": [
    "arr = np.array(mylist)"
   ]
  },
  {
   "cell_type": "markdown",
   "id": "6c83e4a1",
   "metadata": {},
   "source": [
    "Creating a dictionary"
   ]
  },
  {
   "cell_type": "code",
   "execution_count": 5,
   "id": "36628f22",
   "metadata": {},
   "outputs": [],
   "source": [
    "d = {'a':10,'b':20,'c':30}"
   ]
  },
  {
   "cell_type": "markdown",
   "id": "f0f131c5",
   "metadata": {},
   "source": [
    "Creating a pandas series using mylist as the data"
   ]
  },
  {
   "cell_type": "code",
   "execution_count": 6,
   "id": "6a12f00e",
   "metadata": {},
   "outputs": [
    {
     "data": {
      "text/plain": [
       "0    10\n",
       "1    20\n",
       "2    30\n",
       "dtype: int64"
      ]
     },
     "execution_count": 6,
     "metadata": {},
     "output_type": "execute_result"
    }
   ],
   "source": [
    "pd.Series(data=mylist)"
   ]
  },
  {
   "cell_type": "markdown",
   "id": "c5e3fe82",
   "metadata": {},
   "source": [
    "Creating a pandas series with the array as the data and labels and the index"
   ]
  },
  {
   "cell_type": "code",
   "execution_count": 8,
   "id": "10e0541a",
   "metadata": {},
   "outputs": [
    {
     "data": {
      "text/plain": [
       "a    10\n",
       "b    20\n",
       "c    30\n",
       "dtype: int32"
      ]
     },
     "execution_count": 8,
     "metadata": {},
     "output_type": "execute_result"
    }
   ],
   "source": [
    "pd.Series(data=arr,index=labels)"
   ]
  },
  {
   "cell_type": "markdown",
   "id": "bbf4653a",
   "metadata": {},
   "source": [
    "Creating a pandas series putting in the data and index"
   ]
  },
  {
   "cell_type": "code",
   "execution_count": 9,
   "id": "33ece987",
   "metadata": {},
   "outputs": [],
   "source": [
    "ser1 = pd.Series([1,2,3,4],index=['USA','Germany','Russia','Japan'])"
   ]
  },
  {
   "cell_type": "code",
   "execution_count": 10,
   "id": "5fc2c974",
   "metadata": {},
   "outputs": [
    {
     "data": {
      "text/plain": [
       "USA        1\n",
       "Germany    2\n",
       "Russia     3\n",
       "Japan      4\n",
       "dtype: int64"
      ]
     },
     "execution_count": 10,
     "metadata": {},
     "output_type": "execute_result"
    }
   ],
   "source": [
    "ser1"
   ]
  },
  {
   "cell_type": "markdown",
   "id": "89807210",
   "metadata": {},
   "source": [
    "Getting the value at index USA"
   ]
  },
  {
   "cell_type": "code",
   "execution_count": 11,
   "id": "fa36bf93",
   "metadata": {},
   "outputs": [
    {
     "data": {
      "text/plain": [
       "1"
      ]
     },
     "execution_count": 11,
     "metadata": {},
     "output_type": "execute_result"
    }
   ],
   "source": [
    "ser1['USA']"
   ]
  },
  {
   "cell_type": "markdown",
   "id": "c442505f",
   "metadata": {},
   "source": [
    "Creating another pandas series similar to the one above "
   ]
  },
  {
   "cell_type": "code",
   "execution_count": 12,
   "id": "0318590b",
   "metadata": {},
   "outputs": [],
   "source": [
    "ser2 = pd.Series([1,4,5,6],index=['USA','Germany','Italy','Japan'])"
   ]
  },
  {
   "cell_type": "code",
   "execution_count": 13,
   "id": "4ecf7e26",
   "metadata": {},
   "outputs": [
    {
     "data": {
      "text/plain": [
       "USA        1\n",
       "Germany    4\n",
       "Italy      5\n",
       "Japan      6\n",
       "dtype: int64"
      ]
     },
     "execution_count": 13,
     "metadata": {},
     "output_type": "execute_result"
    }
   ],
   "source": [
    "ser2"
   ]
  },
  {
   "cell_type": "markdown",
   "id": "ef5682af",
   "metadata": {},
   "source": [
    "Adding the two series together"
   ]
  },
  {
   "cell_type": "code",
   "execution_count": 14,
   "id": "12311588",
   "metadata": {},
   "outputs": [
    {
     "data": {
      "text/plain": [
       "Germany     6.0\n",
       "Italy       NaN\n",
       "Japan      10.0\n",
       "Russia      NaN\n",
       "USA         2.0\n",
       "dtype: float64"
      ]
     },
     "execution_count": 14,
     "metadata": {},
     "output_type": "execute_result"
    }
   ],
   "source": [
    "ser1 + ser2"
   ]
  }
 ],
 "metadata": {
  "kernelspec": {
   "display_name": "Python 3 (ipykernel)",
   "language": "python",
   "name": "python3"
  },
  "language_info": {
   "codemirror_mode": {
    "name": "ipython",
    "version": 3
   },
   "file_extension": ".py",
   "mimetype": "text/x-python",
   "name": "python",
   "nbconvert_exporter": "python",
   "pygments_lexer": "ipython3",
   "version": "3.7.3"
  }
 },
 "nbformat": 4,
 "nbformat_minor": 5
}
