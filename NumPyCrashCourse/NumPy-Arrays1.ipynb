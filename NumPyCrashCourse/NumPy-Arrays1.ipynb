{
 "cells": [
  {
   "cell_type": "markdown",
   "id": "e2eb76ec",
   "metadata": {},
   "source": [
    "# NumPy Crash Course - Arrays Part 1 "
   ]
  },
  {
   "cell_type": "markdown",
   "id": "c2394f07",
   "metadata": {},
   "source": [
    "Import NumPy"
   ]
  },
  {
   "cell_type": "code",
   "execution_count": 46,
   "id": "86b22db7",
   "metadata": {},
   "outputs": [],
   "source": [
    "import numpy as np"
   ]
  },
  {
   "cell_type": "markdown",
   "id": "3970534f",
   "metadata": {},
   "source": [
    "Create a list with values "
   ]
  },
  {
   "cell_type": "code",
   "execution_count": 47,
   "id": "c8f5a757",
   "metadata": {},
   "outputs": [],
   "source": [
    "mylist = [1,2,3]"
   ]
  },
  {
   "cell_type": "markdown",
   "id": "515464fb",
   "metadata": {},
   "source": [
    "By default it is of type list"
   ]
  },
  {
   "cell_type": "code",
   "execution_count": 48,
   "id": "bb47a783",
   "metadata": {},
   "outputs": [
    {
     "data": {
      "text/plain": [
       "list"
      ]
     },
     "execution_count": 48,
     "metadata": {},
     "output_type": "execute_result"
    }
   ],
   "source": [
    "type(mylist)"
   ]
  },
  {
   "cell_type": "markdown",
   "id": "a6f0c818",
   "metadata": {},
   "source": [
    "Using np.array can turn the list into an array"
   ]
  },
  {
   "cell_type": "code",
   "execution_count": 49,
   "id": "f2860a05",
   "metadata": {},
   "outputs": [],
   "source": [
    "arr = np.array(mylist)"
   ]
  },
  {
   "cell_type": "code",
   "execution_count": 50,
   "id": "dd0c512f",
   "metadata": {},
   "outputs": [
    {
     "data": {
      "text/plain": [
       "array([1, 2, 3])"
      ]
     },
     "execution_count": 50,
     "metadata": {},
     "output_type": "execute_result"
    }
   ],
   "source": [
    "arr"
   ]
  },
  {
   "cell_type": "markdown",
   "id": "53b836a4",
   "metadata": {},
   "source": [
    "Create a list of lists"
   ]
  },
  {
   "cell_type": "code",
   "execution_count": 51,
   "id": "4b985d5c",
   "metadata": {},
   "outputs": [],
   "source": [
    "mylist2 = [[1,2,3], [4,5,6], [7,8,9]]"
   ]
  },
  {
   "cell_type": "code",
   "execution_count": 52,
   "id": "d787540a",
   "metadata": {},
   "outputs": [
    {
     "data": {
      "text/plain": [
       "[[1, 2, 3], [4, 5, 6], [7, 8, 9]]"
      ]
     },
     "execution_count": 52,
     "metadata": {},
     "output_type": "execute_result"
    }
   ],
   "source": [
    "mylist2"
   ]
  },
  {
   "cell_type": "markdown",
   "id": "928b5c32",
   "metadata": {},
   "source": [
    "Using np.array on a list of lists can turn it into a matrix"
   ]
  },
  {
   "cell_type": "code",
   "execution_count": 53,
   "id": "b2e042e8",
   "metadata": {},
   "outputs": [],
   "source": [
    "matrix = np.array(mylist2)"
   ]
  },
  {
   "cell_type": "code",
   "execution_count": 54,
   "id": "c11a45b2",
   "metadata": {},
   "outputs": [
    {
     "data": {
      "text/plain": [
       "array([[1, 2, 3],\n",
       "       [4, 5, 6],\n",
       "       [7, 8, 9]])"
      ]
     },
     "execution_count": 54,
     "metadata": {},
     "output_type": "execute_result"
    }
   ],
   "source": [
    "matrix"
   ]
  },
  {
   "cell_type": "markdown",
   "id": "87f2e901",
   "metadata": {},
   "source": [
    "Using .shape can get the shape of the matrix, this is a 3 x 3 matrix"
   ]
  },
  {
   "cell_type": "code",
   "execution_count": 55,
   "id": "f0f8a7e2",
   "metadata": {},
   "outputs": [
    {
     "data": {
      "text/plain": [
       "(3, 3)"
      ]
     },
     "execution_count": 55,
     "metadata": {},
     "output_type": "execute_result"
    }
   ],
   "source": [
    "matrix.shape"
   ]
  },
  {
   "cell_type": "markdown",
   "id": "2826266f",
   "metadata": {},
   "source": [
    "Using np.arange() will return evenly spaced values between a given interval "
   ]
  },
  {
   "cell_type": "code",
   "execution_count": 56,
   "id": "18c6a0b0",
   "metadata": {},
   "outputs": [
    {
     "data": {
      "text/plain": [
       "array([0, 1, 2, 3, 4, 5, 6, 7, 8, 9])"
      ]
     },
     "execution_count": 56,
     "metadata": {},
     "output_type": "execute_result"
    }
   ],
   "source": [
    "np.arange(0,10)"
   ]
  },
  {
   "cell_type": "markdown",
   "id": "a5f28acd",
   "metadata": {},
   "source": [
    "The third parameter is the interval "
   ]
  },
  {
   "cell_type": "code",
   "execution_count": 57,
   "id": "a0bb1ca5",
   "metadata": {},
   "outputs": [
    {
     "data": {
      "text/plain": [
       "array([0, 2, 4, 6, 8])"
      ]
     },
     "execution_count": 57,
     "metadata": {},
     "output_type": "execute_result"
    }
   ],
   "source": [
    "np.arange(0,10,2)"
   ]
  },
  {
   "cell_type": "markdown",
   "id": "bac63c4d",
   "metadata": {},
   "source": [
    "Using np.zeros returns a list of zeroes as floats, parameter is how many"
   ]
  },
  {
   "cell_type": "code",
   "execution_count": 58,
   "id": "7b427e63",
   "metadata": {},
   "outputs": [
    {
     "data": {
      "text/plain": [
       "array([0., 0., 0., 0., 0.])"
      ]
     },
     "execution_count": 58,
     "metadata": {},
     "output_type": "execute_result"
    }
   ],
   "source": [
    "np.zeros(5)"
   ]
  },
  {
   "cell_type": "markdown",
   "id": "05db450c",
   "metadata": {},
   "source": [
    "This can also be done as a matrix by giving the shape of the matrix"
   ]
  },
  {
   "cell_type": "code",
   "execution_count": 59,
   "id": "e42d98f9",
   "metadata": {},
   "outputs": [
    {
     "data": {
      "text/plain": [
       "array([[0., 0., 0., 0., 0., 0., 0., 0., 0., 0.],\n",
       "       [0., 0., 0., 0., 0., 0., 0., 0., 0., 0.],\n",
       "       [0., 0., 0., 0., 0., 0., 0., 0., 0., 0.],\n",
       "       [0., 0., 0., 0., 0., 0., 0., 0., 0., 0.]])"
      ]
     },
     "execution_count": 59,
     "metadata": {},
     "output_type": "execute_result"
    }
   ],
   "source": [
    "np.zeros((4,10))"
   ]
  },
  {
   "cell_type": "markdown",
   "id": "f2aabd5f",
   "metadata": {},
   "source": [
    "Using np.ones does the same as np.zeros except with 1s"
   ]
  },
  {
   "cell_type": "code",
   "execution_count": 60,
   "id": "d526fdb6",
   "metadata": {},
   "outputs": [
    {
     "data": {
      "text/plain": [
       "array([[1., 1., 1., 1., 1.],\n",
       "       [1., 1., 1., 1., 1.],\n",
       "       [1., 1., 1., 1., 1.],\n",
       "       [1., 1., 1., 1., 1.],\n",
       "       [1., 1., 1., 1., 1.]])"
      ]
     },
     "execution_count": 60,
     "metadata": {},
     "output_type": "execute_result"
    }
   ],
   "source": [
    "np.ones((5,5))"
   ]
  },
  {
   "cell_type": "markdown",
   "id": "1a78d893",
   "metadata": {},
   "source": [
    "In NumPy you can also do operations when crerating arrays or matrices "
   ]
  },
  {
   "cell_type": "code",
   "execution_count": 61,
   "id": "54b5311d",
   "metadata": {},
   "outputs": [
    {
     "data": {
      "text/plain": [
       "array([[5., 5., 5., 5., 5.],\n",
       "       [5., 5., 5., 5., 5.],\n",
       "       [5., 5., 5., 5., 5.],\n",
       "       [5., 5., 5., 5., 5.],\n",
       "       [5., 5., 5., 5., 5.]])"
      ]
     },
     "execution_count": 61,
     "metadata": {},
     "output_type": "execute_result"
    }
   ],
   "source": [
    "np.ones((5,5)) + 4"
   ]
  },
  {
   "cell_type": "code",
   "execution_count": 62,
   "id": "4ebd26dd",
   "metadata": {},
   "outputs": [
    {
     "data": {
      "text/plain": [
       "array([100., 100., 100., 100.])"
      ]
     },
     "execution_count": 62,
     "metadata": {},
     "output_type": "execute_result"
    }
   ],
   "source": [
    "np.ones(4) * 100"
   ]
  },
  {
   "cell_type": "markdown",
   "id": "b8ea88f1",
   "metadata": {},
   "source": [
    "Using np.linspace returns a linear space array meaning evenly spaced numbers over a specified interval. (start, stop, number of vlues in the array)"
   ]
  },
  {
   "cell_type": "code",
   "execution_count": 63,
   "id": "7dee6ddc",
   "metadata": {},
   "outputs": [
    {
     "data": {
      "text/plain": [
       "array([ 0.        ,  0.52631579,  1.05263158,  1.57894737,  2.10526316,\n",
       "        2.63157895,  3.15789474,  3.68421053,  4.21052632,  4.73684211,\n",
       "        5.26315789,  5.78947368,  6.31578947,  6.84210526,  7.36842105,\n",
       "        7.89473684,  8.42105263,  8.94736842,  9.47368421, 10.        ])"
      ]
     },
     "execution_count": 63,
     "metadata": {},
     "output_type": "execute_result"
    }
   ],
   "source": [
    "np.linspace(0, 10, 20)"
   ]
  },
  {
   "cell_type": "markdown",
   "id": "9d1b2abf",
   "metadata": {},
   "source": [
    "Using np.eye return an identity matrix of the size given"
   ]
  },
  {
   "cell_type": "code",
   "execution_count": 64,
   "id": "cc402a9b",
   "metadata": {},
   "outputs": [
    {
     "data": {
      "text/plain": [
       "array([[1., 0., 0., 0., 0.],\n",
       "       [0., 1., 0., 0., 0.],\n",
       "       [0., 0., 1., 0., 0.],\n",
       "       [0., 0., 0., 1., 0.],\n",
       "       [0., 0., 0., 0., 1.]])"
      ]
     },
     "execution_count": 64,
     "metadata": {},
     "output_type": "execute_result"
    }
   ],
   "source": [
    "np.eye(5)"
   ]
  },
  {
   "cell_type": "code",
   "execution_count": 65,
   "id": "52c9304e",
   "metadata": {},
   "outputs": [
    {
     "data": {
      "text/plain": [
       "array([[1., 0., 0., 0., 0., 0., 0.],\n",
       "       [0., 1., 0., 0., 0., 0., 0.],\n",
       "       [0., 0., 1., 0., 0., 0., 0.],\n",
       "       [0., 0., 0., 1., 0., 0., 0.],\n",
       "       [0., 0., 0., 0., 1., 0., 0.],\n",
       "       [0., 0., 0., 0., 0., 1., 0.],\n",
       "       [0., 0., 0., 0., 0., 0., 1.]])"
      ]
     },
     "execution_count": 65,
     "metadata": {},
     "output_type": "execute_result"
    }
   ],
   "source": [
    "np.eye(7)"
   ]
  },
  {
   "cell_type": "code",
   "execution_count": null,
   "id": "2e8f907d",
   "metadata": {},
   "outputs": [],
   "source": []
  }
 ],
 "metadata": {
  "kernelspec": {
   "display_name": "Python 3 (ipykernel)",
   "language": "python",
   "name": "python3"
  },
  "language_info": {
   "codemirror_mode": {
    "name": "ipython",
    "version": 3
   },
   "file_extension": ".py",
   "mimetype": "text/x-python",
   "name": "python",
   "nbconvert_exporter": "python",
   "pygments_lexer": "ipython3",
   "version": "3.7.3"
  }
 },
 "nbformat": 4,
 "nbformat_minor": 5
}
