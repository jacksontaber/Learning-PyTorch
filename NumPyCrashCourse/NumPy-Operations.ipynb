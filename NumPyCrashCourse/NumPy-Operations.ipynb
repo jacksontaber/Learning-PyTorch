{
 "cells": [
  {
   "cell_type": "markdown",
   "id": "bc7ea955",
   "metadata": {},
   "source": [
    "# NumPy Crash Course - Operations"
   ]
  },
  {
   "cell_type": "code",
   "execution_count": 1,
   "id": "be1d1ddc",
   "metadata": {},
   "outputs": [],
   "source": [
    "import numpy as np"
   ]
  },
  {
   "cell_type": "markdown",
   "id": "dcb7840f",
   "metadata": {},
   "source": [
    "Creating an array using arange"
   ]
  },
  {
   "cell_type": "code",
   "execution_count": 2,
   "id": "c6be56d8",
   "metadata": {},
   "outputs": [],
   "source": [
    "arr = np.arange(0,10)"
   ]
  },
  {
   "cell_type": "code",
   "execution_count": 3,
   "id": "afc618a1",
   "metadata": {},
   "outputs": [
    {
     "data": {
      "text/plain": [
       "array([0, 1, 2, 3, 4, 5, 6, 7, 8, 9])"
      ]
     },
     "execution_count": 3,
     "metadata": {},
     "output_type": "execute_result"
    }
   ],
   "source": [
    "arr"
   ]
  },
  {
   "cell_type": "markdown",
   "id": "64550e0b",
   "metadata": {},
   "source": [
    "Adding 100 to every value in the array"
   ]
  },
  {
   "cell_type": "code",
   "execution_count": 4,
   "id": "63c96c42",
   "metadata": {},
   "outputs": [
    {
     "data": {
      "text/plain": [
       "array([100, 101, 102, 103, 104, 105, 106, 107, 108, 109])"
      ]
     },
     "execution_count": 4,
     "metadata": {},
     "output_type": "execute_result"
    }
   ],
   "source": [
    "arr + 100"
   ]
  },
  {
   "cell_type": "markdown",
   "id": "dd98874d",
   "metadata": {},
   "source": [
    "Adding the array to the array"
   ]
  },
  {
   "cell_type": "code",
   "execution_count": 5,
   "id": "95be87fc",
   "metadata": {},
   "outputs": [
    {
     "data": {
      "text/plain": [
       "array([ 0,  2,  4,  6,  8, 10, 12, 14, 16, 18])"
      ]
     },
     "execution_count": 5,
     "metadata": {},
     "output_type": "execute_result"
    }
   ],
   "source": [
    "arr + arr"
   ]
  },
  {
   "cell_type": "markdown",
   "id": "bd2f9c1a",
   "metadata": {},
   "source": [
    "Taking the square root of the array"
   ]
  },
  {
   "cell_type": "code",
   "execution_count": 6,
   "id": "b3361701",
   "metadata": {},
   "outputs": [
    {
     "data": {
      "text/plain": [
       "array([0.        , 1.        , 1.41421356, 1.73205081, 2.        ,\n",
       "       2.23606798, 2.44948974, 2.64575131, 2.82842712, 3.        ])"
      ]
     },
     "execution_count": 6,
     "metadata": {},
     "output_type": "execute_result"
    }
   ],
   "source": [
    "np.sqrt(arr)"
   ]
  },
  {
   "cell_type": "markdown",
   "id": "d542db30",
   "metadata": {},
   "source": [
    "Finding the sine of the array"
   ]
  },
  {
   "cell_type": "code",
   "execution_count": 8,
   "id": "95b6cc1a",
   "metadata": {},
   "outputs": [
    {
     "data": {
      "text/plain": [
       "array([ 0.        ,  0.84147098,  0.90929743,  0.14112001, -0.7568025 ,\n",
       "       -0.95892427, -0.2794155 ,  0.6569866 ,  0.98935825,  0.41211849])"
      ]
     },
     "execution_count": 8,
     "metadata": {},
     "output_type": "execute_result"
    }
   ],
   "source": [
    "np.sin(arr)"
   ]
  },
  {
   "cell_type": "markdown",
   "id": "c6dfd31f",
   "metadata": {},
   "source": [
    "Finding the sum of the values in the array"
   ]
  },
  {
   "cell_type": "code",
   "execution_count": 9,
   "id": "a063dfaa",
   "metadata": {},
   "outputs": [
    {
     "data": {
      "text/plain": [
       "45"
      ]
     },
     "execution_count": 9,
     "metadata": {},
     "output_type": "execute_result"
    }
   ],
   "source": [
    "arr.sum()"
   ]
  },
  {
   "cell_type": "markdown",
   "id": "a22cdf4a",
   "metadata": {},
   "source": [
    "Finding the mean of the values in the array"
   ]
  },
  {
   "cell_type": "code",
   "execution_count": 10,
   "id": "d6ef4bd6",
   "metadata": {},
   "outputs": [
    {
     "data": {
      "text/plain": [
       "4.5"
      ]
     },
     "execution_count": 10,
     "metadata": {},
     "output_type": "execute_result"
    }
   ],
   "source": [
    "arr.mean()"
   ]
  },
  {
   "cell_type": "markdown",
   "id": "f3b95ff3",
   "metadata": {},
   "source": [
    "Creating a 2d array"
   ]
  },
  {
   "cell_type": "code",
   "execution_count": 16,
   "id": "93110757",
   "metadata": {},
   "outputs": [],
   "source": [
    "arr_2d = np.array([[1,2,3,4],[5,6,7,8],[9,10,11,12]])"
   ]
  },
  {
   "cell_type": "markdown",
   "id": "2e1eb5a8",
   "metadata": {},
   "source": [
    "Finding the shape of the 2d array"
   ]
  },
  {
   "cell_type": "code",
   "execution_count": 17,
   "id": "be8a69c9",
   "metadata": {},
   "outputs": [
    {
     "data": {
      "text/plain": [
       "(3, 4)"
      ]
     },
     "execution_count": 17,
     "metadata": {},
     "output_type": "execute_result"
    }
   ],
   "source": [
    "arr_2d.shape"
   ]
  },
  {
   "cell_type": "markdown",
   "id": "b378b779",
   "metadata": {},
   "source": [
    "Finding the sum of the values in the array"
   ]
  },
  {
   "cell_type": "code",
   "execution_count": 18,
   "id": "ecbd05bd",
   "metadata": {},
   "outputs": [
    {
     "data": {
      "text/plain": [
       "78"
      ]
     },
     "execution_count": 18,
     "metadata": {},
     "output_type": "execute_result"
    }
   ],
   "source": [
    "arr_2d.sum()"
   ]
  },
  {
   "cell_type": "markdown",
   "id": "5287f636",
   "metadata": {},
   "source": [
    "Using axis=0 as the paramater in the sum finds the sum of the columns "
   ]
  },
  {
   "cell_type": "code",
   "execution_count": 19,
   "id": "9ffb21bc",
   "metadata": {},
   "outputs": [
    {
     "data": {
      "text/plain": [
       "array([15, 18, 21, 24])"
      ]
     },
     "execution_count": 19,
     "metadata": {},
     "output_type": "execute_result"
    }
   ],
   "source": [
    "arr_2d.sum(axis=0)"
   ]
  },
  {
   "cell_type": "markdown",
   "id": "efc4e31a",
   "metadata": {},
   "source": [
    "Using axis=1 as the paramater in the sum finds the sum of the columns"
   ]
  },
  {
   "cell_type": "code",
   "execution_count": 20,
   "id": "bfc52273",
   "metadata": {},
   "outputs": [
    {
     "data": {
      "text/plain": [
       "array([10, 26, 42])"
      ]
     },
     "execution_count": 20,
     "metadata": {},
     "output_type": "execute_result"
    }
   ],
   "source": [
    "arr_2d.sum(axis=1)"
   ]
  }
 ],
 "metadata": {
  "kernelspec": {
   "display_name": "Python 3 (ipykernel)",
   "language": "python",
   "name": "python3"
  },
  "language_info": {
   "codemirror_mode": {
    "name": "ipython",
    "version": 3
   },
   "file_extension": ".py",
   "mimetype": "text/x-python",
   "name": "python",
   "nbconvert_exporter": "python",
   "pygments_lexer": "ipython3",
   "version": "3.7.3"
  }
 },
 "nbformat": 4,
 "nbformat_minor": 5
}
