{
 "cells": [
  {
   "cell_type": "markdown",
   "id": "e74a070a",
   "metadata": {},
   "source": [
    "# NumPy Crash Course - Arrays Part 2"
   ]
  },
  {
   "cell_type": "code",
   "execution_count": 1,
   "id": "bd88a3e8",
   "metadata": {},
   "outputs": [],
   "source": [
    "import numpy as np"
   ]
  },
  {
   "cell_type": "markdown",
   "id": "aab5ccf4",
   "metadata": {},
   "source": [
    "Using np.random.rand returns a random number between 0 and 1"
   ]
  },
  {
   "cell_type": "code",
   "execution_count": 2,
   "id": "628684fa",
   "metadata": {},
   "outputs": [
    {
     "data": {
      "text/plain": [
       "array([0.09108835])"
      ]
     },
     "execution_count": 2,
     "metadata": {},
     "output_type": "execute_result"
    }
   ],
   "source": [
    "np.random.rand(1)"
   ]
  },
  {
   "cell_type": "markdown",
   "id": "aa52b1e4",
   "metadata": {},
   "source": [
    "Putting in a parameter gives you that many random numbers "
   ]
  },
  {
   "cell_type": "code",
   "execution_count": 3,
   "id": "65d032da",
   "metadata": {},
   "outputs": [
    {
     "data": {
      "text/plain": [
       "array([0.25876339, 0.23995257, 0.40496074, 0.20843125])"
      ]
     },
     "execution_count": 3,
     "metadata": {},
     "output_type": "execute_result"
    }
   ],
   "source": [
    "np.random.rand(4)"
   ]
  },
  {
   "cell_type": "markdown",
   "id": "747ecb98",
   "metadata": {},
   "source": [
    "A matrix of random numbers can also be created"
   ]
  },
  {
   "cell_type": "code",
   "execution_count": 4,
   "id": "0a0a5ad8",
   "metadata": {},
   "outputs": [
    {
     "data": {
      "text/plain": [
       "array([[0.97451151, 0.02342335, 0.4364361 , 0.27957354, 0.20501072],\n",
       "       [0.33511272, 0.72292819, 0.77770596, 0.55365449, 0.80545752],\n",
       "       [0.27912161, 0.84681514, 0.0225367 , 0.43724651, 0.69292137],\n",
       "       [0.78762976, 0.88172596, 0.16998914, 0.41720105, 0.0760047 ],\n",
       "       [0.23335124, 0.95456259, 0.05361433, 0.94236322, 0.68875633]])"
      ]
     },
     "execution_count": 4,
     "metadata": {},
     "output_type": "execute_result"
    }
   ],
   "source": [
    "np.random.rand(5,5)"
   ]
  },
  {
   "cell_type": "markdown",
   "id": "05611e70",
   "metadata": {},
   "source": [
    "Using np.random.randn gives a random number from the “standard normal” distribution"
   ]
  },
  {
   "cell_type": "code",
   "execution_count": 5,
   "id": "22a7ff88",
   "metadata": {},
   "outputs": [
    {
     "data": {
      "text/plain": [
       "array([2.89082764])"
      ]
     },
     "execution_count": 5,
     "metadata": {},
     "output_type": "execute_result"
    }
   ],
   "source": [
    "np.random.randn(1)"
   ]
  },
  {
   "cell_type": "code",
   "execution_count": 6,
   "id": "3e39be0f",
   "metadata": {},
   "outputs": [
    {
     "data": {
      "text/plain": [
       "array([ 0.03388686, -0.30498382, -0.55910458,  0.17655683,  0.47280392,\n",
       "       -0.39593009, -1.96439919,  1.0836176 , -0.87037615,  1.31344668])"
      ]
     },
     "execution_count": 6,
     "metadata": {},
     "output_type": "execute_result"
    }
   ],
   "source": [
    "np.random.randn(10)"
   ]
  },
  {
   "cell_type": "markdown",
   "id": "1f67921d",
   "metadata": {},
   "source": [
    "Using np.random.randint gives a random integer between the numbers given"
   ]
  },
  {
   "cell_type": "code",
   "execution_count": 7,
   "id": "f4e3d477",
   "metadata": {},
   "outputs": [
    {
     "data": {
      "text/plain": [
       "4"
      ]
     },
     "execution_count": 7,
     "metadata": {},
     "output_type": "execute_result"
    }
   ],
   "source": [
    "np.random.randint(1,100)"
   ]
  },
  {
   "cell_type": "markdown",
   "id": "da30345c",
   "metadata": {},
   "source": [
    "Thirs parameter is how many random integers"
   ]
  },
  {
   "cell_type": "code",
   "execution_count": 8,
   "id": "ae92c2a2",
   "metadata": {},
   "outputs": [
    {
     "data": {
      "text/plain": [
       "array([88, 97, 72, 23, 37, 85, 15, 27, 59, 40])"
      ]
     },
     "execution_count": 8,
     "metadata": {},
     "output_type": "execute_result"
    }
   ],
   "source": [
    "np.random.randint(1,100,10)"
   ]
  },
  {
   "cell_type": "markdown",
   "id": "c8f36e90",
   "metadata": {},
   "source": [
    "np.random.seed makes it if someone else uses the same seed they will get the same random numbers"
   ]
  },
  {
   "cell_type": "code",
   "execution_count": 11,
   "id": "1c771532",
   "metadata": {},
   "outputs": [
    {
     "data": {
      "text/plain": [
       "array([0.37454012, 0.95071431, 0.73199394, 0.59865848])"
      ]
     },
     "execution_count": 11,
     "metadata": {},
     "output_type": "execute_result"
    }
   ],
   "source": [
    "np.random.seed(42)\n",
    "np.random.rand(4)"
   ]
  },
  {
   "cell_type": "markdown",
   "id": "e1d0f56f",
   "metadata": {},
   "source": [
    "Creating an array with arange"
   ]
  },
  {
   "cell_type": "code",
   "execution_count": 12,
   "id": "da3fcef4",
   "metadata": {},
   "outputs": [],
   "source": [
    "arr = np.arange(25)"
   ]
  },
  {
   "cell_type": "code",
   "execution_count": 13,
   "id": "4a6383bf",
   "metadata": {},
   "outputs": [
    {
     "data": {
      "text/plain": [
       "array([ 0,  1,  2,  3,  4,  5,  6,  7,  8,  9, 10, 11, 12, 13, 14, 15, 16,\n",
       "       17, 18, 19, 20, 21, 22, 23, 24])"
      ]
     },
     "execution_count": 13,
     "metadata": {},
     "output_type": "execute_result"
    }
   ],
   "source": [
    "arr"
   ]
  },
  {
   "cell_type": "markdown",
   "id": "c942242e",
   "metadata": {},
   "source": [
    "Creating an array with random numbers"
   ]
  },
  {
   "cell_type": "code",
   "execution_count": 14,
   "id": "cd628a60",
   "metadata": {},
   "outputs": [],
   "source": [
    "ranarr = np.random.randint(0,50,10)"
   ]
  },
  {
   "cell_type": "code",
   "execution_count": 15,
   "id": "43c12d71",
   "metadata": {},
   "outputs": [
    {
     "data": {
      "text/plain": [
       "array([38, 18, 22, 10, 10, 23, 35, 39, 23,  2])"
      ]
     },
     "execution_count": 15,
     "metadata": {},
     "output_type": "execute_result"
    }
   ],
   "source": [
    "ranarr"
   ]
  },
  {
   "cell_type": "markdown",
   "id": "abaee75f",
   "metadata": {},
   "source": [
    "Finding the shape of the array"
   ]
  },
  {
   "cell_type": "code",
   "execution_count": 16,
   "id": "e9029060",
   "metadata": {},
   "outputs": [
    {
     "data": {
      "text/plain": [
       "(25,)"
      ]
     },
     "execution_count": 16,
     "metadata": {},
     "output_type": "execute_result"
    }
   ],
   "source": [
    "arr.shape"
   ]
  },
  {
   "cell_type": "markdown",
   "id": "78181a38",
   "metadata": {},
   "source": [
    "Using .reshape will reshape the array into a matrix put only if the two turns when multiplied equals the number of values"
   ]
  },
  {
   "cell_type": "code",
   "execution_count": 17,
   "id": "54b86d4c",
   "metadata": {},
   "outputs": [
    {
     "data": {
      "text/plain": [
       "array([[ 0,  1,  2,  3,  4],\n",
       "       [ 5,  6,  7,  8,  9],\n",
       "       [10, 11, 12, 13, 14],\n",
       "       [15, 16, 17, 18, 19],\n",
       "       [20, 21, 22, 23, 24]])"
      ]
     },
     "execution_count": 17,
     "metadata": {},
     "output_type": "execute_result"
    }
   ],
   "source": [
    "arr.reshape(5,5)"
   ]
  },
  {
   "cell_type": "markdown",
   "id": "d399b2c1",
   "metadata": {},
   "source": [
    "Using .max() finds the max value in the array"
   ]
  },
  {
   "cell_type": "code",
   "execution_count": 18,
   "id": "32432664",
   "metadata": {},
   "outputs": [
    {
     "data": {
      "text/plain": [
       "39"
      ]
     },
     "execution_count": 18,
     "metadata": {},
     "output_type": "execute_result"
    }
   ],
   "source": [
    "ranarr.max()"
   ]
  },
  {
   "cell_type": "markdown",
   "id": "c068b057",
   "metadata": {},
   "source": [
    "Using .min() finds the min value in the array"
   ]
  },
  {
   "cell_type": "code",
   "execution_count": 19,
   "id": "32077515",
   "metadata": {},
   "outputs": [
    {
     "data": {
      "text/plain": [
       "2"
      ]
     },
     "execution_count": 19,
     "metadata": {},
     "output_type": "execute_result"
    }
   ],
   "source": [
    "ranarr.min()"
   ]
  },
  {
   "cell_type": "markdown",
   "id": "437f73b9",
   "metadata": {},
   "source": [
    "Using .argmax() finds the index of the max value in the array"
   ]
  },
  {
   "cell_type": "code",
   "execution_count": 20,
   "id": "84c7d2f7",
   "metadata": {},
   "outputs": [
    {
     "data": {
      "text/plain": [
       "7"
      ]
     },
     "execution_count": 20,
     "metadata": {},
     "output_type": "execute_result"
    }
   ],
   "source": [
    "ranarr.argmax()"
   ]
  },
  {
   "cell_type": "markdown",
   "id": "c2484f93",
   "metadata": {},
   "source": [
    "Using .argmin() finds the index of the min value in the array"
   ]
  },
  {
   "cell_type": "code",
   "execution_count": 21,
   "id": "1a190010",
   "metadata": {},
   "outputs": [
    {
     "data": {
      "text/plain": [
       "9"
      ]
     },
     "execution_count": 21,
     "metadata": {},
     "output_type": "execute_result"
    }
   ],
   "source": [
    "ranarr.argmin()"
   ]
  },
  {
   "cell_type": "markdown",
   "id": "d9a61d4b",
   "metadata": {},
   "source": [
    "Using .dtype returns "
   ]
  },
  {
   "cell_type": "code",
   "execution_count": 22,
   "id": "bc2372c6",
   "metadata": {},
   "outputs": [
    {
     "data": {
      "text/plain": [
       "dtype('int32')"
      ]
     },
     "execution_count": 22,
     "metadata": {},
     "output_type": "execute_result"
    }
   ],
   "source": [
    "ranarr.dtype"
   ]
  },
  {
   "cell_type": "code",
   "execution_count": null,
   "id": "eaff3e7f",
   "metadata": {},
   "outputs": [],
   "source": []
  }
 ],
 "metadata": {
  "kernelspec": {
   "display_name": "Python 3 (ipykernel)",
   "language": "python",
   "name": "python3"
  },
  "language_info": {
   "codemirror_mode": {
    "name": "ipython",
    "version": 3
   },
   "file_extension": ".py",
   "mimetype": "text/x-python",
   "name": "python",
   "nbconvert_exporter": "python",
   "pygments_lexer": "ipython3",
   "version": "3.7.3"
  }
 },
 "nbformat": 4,
 "nbformat_minor": 5
}
